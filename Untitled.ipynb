{
 "cells": [
  {
   "cell_type": "code",
   "execution_count": 1,
   "id": "cfeb0d2b-c36a-4c58-bb68-eed18da6c758",
   "metadata": {},
   "outputs": [],
   "source": [
    "import pandas as pd\n",
    "import random"
   ]
  },
  {
   "cell_type": "code",
   "execution_count": 2,
   "id": "1e989dcb-d810-4734-b629-a039134f6c6f",
   "metadata": {},
   "outputs": [],
   "source": [
    "df = pd.read_csv(\"student.csv\", header=None, names=[\"student_id\", \"name\", \"email\"])"
   ]
  },
  {
   "cell_type": "code",
   "execution_count": 3,
   "id": "2609a664-ab16-4a20-b3ed-193b6278c37f",
   "metadata": {},
   "outputs": [],
   "source": [
    "df[\"phone\"] = [f\"{random.randint(6000000000, 9999999999)}\" for _ in range(len(df))]\n",
    "df[\"department_id\"] = [random.randint(1, 4) for _ in range(len(df))]"
   ]
  },
  {
   "cell_type": "code",
   "execution_count": 4,
   "id": "8242a1d8-7d51-4f79-9c66-7859f27773d3",
   "metadata": {},
   "outputs": [],
   "source": [
    "sql_statements = \"INSERT INTO students (student_id, name, email, phone, department_id) VALUES\\n\"\n"
   ]
  },
  {
   "cell_type": "code",
   "execution_count": 5,
   "id": "d0d3584d-f94e-4d17-a212-fac81936a6cf",
   "metadata": {},
   "outputs": [],
   "source": [
    "values = []\n",
    "for _, row in df.iterrows():\n",
    "    values.append(f\"({row['student_id']}, '{row['name']}', '{row['email']}', '{row['phone']}', {row['department_id']})\")\n"
   ]
  },
  {
   "cell_type": "code",
   "execution_count": 6,
   "id": "fe9877a3-30c3-425f-8f47-c95b1cdbb9d0",
   "metadata": {},
   "outputs": [],
   "source": [
    "sql_statements += \",\\n\".join(values) + \";\""
   ]
  },
  {
   "cell_type": "code",
   "execution_count": 7,
   "id": "29a3e1dd-2c1b-4c7d-81ad-06bb8052c468",
   "metadata": {},
   "outputs": [],
   "source": [
    "with open(\"insert_students.sql\", \"w\") as f:\n",
    "    f.write(sql_statements)"
   ]
  },
  {
   "cell_type": "code",
   "execution_count": 8,
   "id": "10e25548-dec8-4d15-bf44-d181820ceae9",
   "metadata": {},
   "outputs": [
    {
     "name": "stdout",
     "output_type": "stream",
     "text": [
      "SQL script saved as insert_students.sql\n"
     ]
    }
   ],
   "source": [
    "print(\"SQL script saved as insert_students.sql\")"
   ]
  },
  {
   "cell_type": "code",
   "execution_count": null,
   "id": "13f1c93e-b004-48e5-9f42-eed22ecff729",
   "metadata": {},
   "outputs": [],
   "source": []
  }
 ],
 "metadata": {
  "kernelspec": {
   "display_name": "Python 3 (ipykernel)",
   "language": "python",
   "name": "python3"
  },
  "language_info": {
   "codemirror_mode": {
    "name": "ipython",
    "version": 3
   },
   "file_extension": ".py",
   "mimetype": "text/x-python",
   "name": "python",
   "nbconvert_exporter": "python",
   "pygments_lexer": "ipython3",
   "version": "3.12.4"
  }
 },
 "nbformat": 4,
 "nbformat_minor": 5
}
